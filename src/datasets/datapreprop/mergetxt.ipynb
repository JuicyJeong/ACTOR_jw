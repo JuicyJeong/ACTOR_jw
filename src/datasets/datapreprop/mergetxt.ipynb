{
 "cells": [
  {
   "cell_type": "code",
   "execution_count": null,
   "metadata": {},
   "outputs": [],
   "source": [
    "'''\n",
    "1. 디렉토리 접근\n",
    "2. 디렉토리에 있는 파일 리스트 쭉 뽑아오기\n",
    "3. 딕셔너리 init\n",
    "4. 딕셔너리에 {파일명: 텍스트 내용}으로 추가\n",
    "5. 폴더에 있는 파일 수만큼 반복\n",
    "6. json 파일로 덤프\n",
    "'''"
   ]
  },
  {
   "cell_type": "code",
   "execution_count": 9,
   "metadata": {},
   "outputs": [
    {
     "name": "stdout",
     "output_type": "stream",
     "text": [
      "29242\n"
     ]
    }
   ],
   "source": [
    "#1. 디렉토리 접근\n",
    "#2. 디렉토리에 있는 파일 리스트 쭉 뽑아오기\n",
    "import os\n",
    "\n",
    "directory_path = \"texts\"\n",
    "txt_list = os.listdir(directory_path)\n",
    "print(len(txt_list))"
   ]
  },
  {
   "cell_type": "code",
   "execution_count": 4,
   "metadata": {},
   "outputs": [
    {
     "name": "stdout",
     "output_type": "stream",
     "text": [
      "person jogs around to the left and right#person/NOUN jog/VERB around/ADV to/ADP the/DET left/NOUN and/CCONJ right/ADJ#0.0#0.0\n",
      "a person is performing a right to left jogging move.#a/DET person/NOUN is/AUX perform/VERB a/DET right/NOUN to/ADP left/VERB jogging/NOUN move/NOUN#0.0#0.0\n",
      "a man runs to the right then runs to the left then back to the middle.#a/DET man/NOUN run/VERB to/ADP the/DET right/NOUN then/ADV run/VERB to/ADP the/DET left/NOUN then/ADV back/ADV to/ADP the/DET middle/NOUN#0.0#0.0\n",
      "\n"
     ]
    }
   ],
   "source": [
    "#3. 딕셔너리 init\n",
    "#4.\n",
    "anno_dict = {}\n",
    "\n",
    "txt_path = directory_path+ '/' + txt_list[1]\n",
    "with open(txt_path, 'r') as file:\n",
    "    file_content = file.read()\n",
    "\n",
    "# print(file_content)\n",
    "anno_dict[txt_list[1]] = file_content\n",
    "print(anno_dict[txt_list[1]])"
   ]
  },
  {
   "cell_type": "code",
   "execution_count": 10,
   "metadata": {},
   "outputs": [],
   "source": [
    "for i in range(0, len(txt_list)): #len(txt_list)\n",
    "    txt_path = directory_path+ '/' + txt_list[i]\n",
    "    with open(txt_path, 'r') as file:\n",
    "        file_content = file.read()\n",
    "    anno_dict[txt_list[i]] = file_content\n"
   ]
  },
  {
   "cell_type": "code",
   "execution_count": null,
   "metadata": {},
   "outputs": [],
   "source": []
  },
  {
   "cell_type": "code",
   "execution_count": 11,
   "metadata": {},
   "outputs": [],
   "source": [
    "import json\n",
    "with open('data.json', 'w') as json_file:\n",
    "    json.dump(anno_dict, json_file, indent=4)"
   ]
  }
 ],
 "metadata": {
  "kernelspec": {
   "display_name": "py39",
   "language": "python",
   "name": "python3"
  },
  "language_info": {
   "codemirror_mode": {
    "name": "ipython",
    "version": 3
   },
   "file_extension": ".py",
   "mimetype": "text/x-python",
   "name": "python",
   "nbconvert_exporter": "python",
   "pygments_lexer": "ipython3",
   "version": "3.9.16"
  }
 },
 "nbformat": 4,
 "nbformat_minor": 2
}
